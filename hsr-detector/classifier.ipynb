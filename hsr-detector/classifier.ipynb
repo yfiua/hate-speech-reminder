{
 "cells": [
  {
   "cell_type": "code",
   "execution_count": 6,
   "metadata": {
    "collapsed": false
   },
   "outputs": [
    {
     "name": "stdout",
     "output_type": "stream",
     "text": [
      "Populating the interactive namespace from numpy and matplotlib\n"
     ]
    },
    {
     "data": {
      "text/html": [
       "<div>\n",
       "<table border=\"1\" class=\"dataframe\">\n",
       "  <thead>\n",
       "    <tr style=\"text-align: right;\">\n",
       "      <th></th>\n",
       "      <th>Insult</th>\n",
       "      <th>Date</th>\n",
       "      <th>Comment</th>\n",
       "    </tr>\n",
       "  </thead>\n",
       "  <tbody>\n",
       "  </tbody>\n",
       "</table>\n",
       "</div>"
      ],
      "text/plain": [
       "Empty DataFrame\n",
       "Columns: [Insult, Date, Comment]\n",
       "Index: []"
      ]
     },
     "execution_count": 6,
     "metadata": {},
     "output_type": "execute_result"
    }
   ],
   "source": [
    "%pylab inline\n",
    "\n",
    "import pandas as pd\n",
    "import nltk \n",
    "from textblob.classifiers import NaiveBayesClassifier\n",
    "\n",
    "df=pd.read_csv(\"train.csv\")\n",
    "df[(df.Comment.isnull())&(df.Insult.isnull())]"
   ]
  },
  {
   "cell_type": "code",
   "execution_count": 7,
   "metadata": {
    "collapsed": false,
    "scrolled": true
   },
   "outputs": [],
   "source": [
    "def do_smth(x):\n",
    "    message=x.Comment[1:-1].replace(\"\\\\\\\\n\",\" \")\n",
    "    tokens = nltk.word_tokenize(message)\n",
    "    #mes_annot={\"text\":tokens,\"label\":str(x.Insult) }\n",
    "    mes_annot=(tokens,str(x.Insult))\n",
    "    return mes_annot \n",
    "\n",
    "\n",
    "df2=df[[\"Insult\",\"Comment\"]]\n",
    "df2[\"token\"]=df2.apply(lambda x: do_smth(x), axis=1)"
   ]
  },
  {
   "cell_type": "code",
   "execution_count": 4,
   "metadata": {
    "collapsed": false
   },
   "outputs": [
    {
     "name": "stdout",
     "output_type": "stream",
     "text": [
      "showing info https://raw.githubusercontent.com/nltk/nltk_data/gh-pages/index.xml\n"
     ]
    },
    {
     "data": {
      "text/plain": [
       "True"
      ]
     },
     "execution_count": 4,
     "metadata": {},
     "output_type": "execute_result"
    }
   ],
   "source": [
    "#nltk.download()\n"
   ]
  },
  {
   "cell_type": "code",
   "execution_count": 8,
   "metadata": {
    "collapsed": false
   },
   "outputs": [],
   "source": [
    "cl = NaiveBayesClassifier(list(df2.token.values[:2000]))#trained on 500 messages"
   ]
  },
  {
   "cell_type": "code",
   "execution_count": 9,
   "metadata": {
    "collapsed": false
   },
   "outputs": [
    {
     "name": "stdout",
     "output_type": "stream",
     "text": [
      "0\n",
      "1\n",
      "1\n",
      "Accuracy: 0.784641068447\n",
      "Most Informative Features\n",
      "          contains(shut) = True                1 : 0      =     24.1 : 1.0\n",
      "        contains(retard) = True                1 : 0      =     18.3 : 1.0\n",
      "      contains(trolling) = True                1 : 0      =     16.4 : 1.0\n",
      "       contains(asshole) = True                1 : 0      =     14.5 : 1.0\n",
      "      contains(retarded) = True                1 : 0      =     13.3 : 1.0\n"
     ]
    }
   ],
   "source": [
    "print cl.classify(\"Their burgers are amazing\") \n",
    "print cl.classify(nltk.word_tokenize(\"Fuck you, stupid moron!!!\")) \n",
    "print cl.classify(\"Fuck you, stupid moron!!!\") \n",
    "#featuresets = [(gender_features(n), gender) for (n, gender) in labeled_names]\n",
    "#train_set, test_set = featuresets[500:], featuresets[:500]\n",
    "#classifier = nltk.NaiveBayesClassifier.train(train_set)\n",
    "\n",
    "\n",
    "# Compute accuracy\n",
    "accuracy = cl.accuracy(df2.token.values[2001:2600])\n",
    "print(\"Accuracy: {0}\".format(accuracy))\n",
    "\n",
    "# Show 5 most informative features\n",
    "cl.show_informative_features(5)"
   ]
  },
  {
   "cell_type": "code",
   "execution_count": 10,
   "metadata": {
    "collapsed": false
   },
   "outputs": [
    {
     "name": "stdout",
     "output_type": "stream",
     "text": [
      "1\n",
      "0.281119366884\n",
      "0.718880633116\n",
      "1\n",
      "0.281119366884\n",
      "0.718880633116\n"
     ]
    }
   ],
   "source": [
    "prob_dist = cl.prob_classify(nltk.word_tokenize(\"Fuck you, stupid moron!!!\"))\n",
    "print prob_dist.max()\n",
    "print prob_dist.prob(\"0\")\n",
    "print prob_dist.prob(\"1\")\n",
    "prob_dist = cl.prob_classify(\"Fuck you, stupid moron!!!\")\n",
    "print prob_dist.max()\n",
    "print prob_dist.prob(\"0\")\n",
    "print prob_dist.prob(\"1\")"
   ]
  },
  {
   "cell_type": "code",
   "execution_count": null,
   "metadata": {
    "collapsed": true
   },
   "outputs": [],
   "source": []
  }
 ],
 "metadata": {
  "kernelspec": {
   "display_name": "Python 2",
   "language": "python",
   "name": "python2"
  },
  "language_info": {
   "codemirror_mode": {
    "name": "ipython",
    "version": 2
   },
   "file_extension": ".py",
   "mimetype": "text/x-python",
   "name": "python",
   "nbconvert_exporter": "python",
   "pygments_lexer": "ipython2",
   "version": "2.7.11"
  }
 },
 "nbformat": 4,
 "nbformat_minor": 0
}
